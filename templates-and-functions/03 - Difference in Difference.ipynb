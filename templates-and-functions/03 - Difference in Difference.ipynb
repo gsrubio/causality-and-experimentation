{
  "nbformat": 4,
  "nbformat_minor": 0,
  "metadata": {
    "colab": {
      "provenance": [],
      "authorship_tag": "ABX9TyPUDAkAPovq0woLuDAb7nyi"
    },
    "kernelspec": {
      "name": "python3",
      "display_name": "Python 3"
    },
    "language_info": {
      "name": "python"
    }
  },
  "cells": [
    {
      "cell_type": "code",
      "execution_count": 1,
      "metadata": {
        "id": "6f0hJGrUranc"
      },
      "outputs": [],
      "source": [
        "import warnings\n",
        "warnings.filterwarnings('ignore')\n",
        "\n",
        "import pandas as pd\n",
        "import numpy as np\n",
        "from matplotlib import style\n",
        "from matplotlib import pyplot as plt\n",
        "import seaborn as sns\n",
        "import statsmodels.formula.api as smf\n",
        "import plotly.express as px\n",
        "\n",
        "%matplotlib inline\n",
        "\n",
        "style.use(\"fivethirtyeight\")"
      ]
    },
    {
      "cell_type": "markdown",
      "source": [
        "# Estimating treatment effect using Difference in Difference Technique"
      ],
      "metadata": {
        "id": "cbOzBgQnwWSc"
      }
    },
    {
      "cell_type": "markdown",
      "source": [
        "This notebook provides code to estimate treatment effect using the classic Diff-in-Diff quasi-experimental design."
      ],
      "metadata": {
        "id": "fCK0YybBwgYx"
      }
    },
    {
      "cell_type": "markdown",
      "source": [
        "## Our model\n",
        "We will be comparing our treatment group before and after an intervention, and using a control group to help us create a counterfactual in order to estimate our tretment effect.\n",
        "\n",
        "The regression model would be:\n",
        "\n",
        "Y= β0 + β1*[Time] + β2*[Intervention] + β3*[Time * Intervention] + ε\n",
        "\n",
        "And one important assumption is the 'parallel trends assumption' which basically means that if we plot our metric over time before the intervention the trends of the control and treatment groups should be parallel (by visual inspection).\n",
        "\n",
        "\n"
      ],
      "metadata": {
        "id": "sHGrI_4ssl4U"
      }
    },
    {
      "cell_type": "markdown",
      "source": [
        "# The code"
      ],
      "metadata": {
        "id": "XtkPMQ2S18Uu"
      }
    },
    {
      "cell_type": "markdown",
      "source": [
        "The code bellow is a function with the following inputs and outputs.\n",
        "\n",
        "Inputs:\n",
        "\n",
        "*   Dataframe with 3 columns, where each observation is a treatment unit (ieg: user):\n",
        "  1.   Treatment indicator as a binary variable\n",
        "  2.   Time indicator (before or after the intervention) as a binary variable\n",
        "  3.   Metric value for the respective treatment and time\n",
        "\n",
        "Outputs:\n",
        "\n",
        "*   Plot with before and after values for control group, treatment group and treatment group counterfactual.\n",
        "*   Estimated effect + confidence interval of the estimate\n",
        "*   Hypothesis test result (statistically significant or not)\n"
      ],
      "metadata": {
        "id": "1PiELx9K19-q"
      }
    },
    {
      "cell_type": "code",
      "source": [
        "# Function to calculate diff-in-diff estimator and statistical significance\n",
        "# Important: the dataframe needs to have a 'treatment' column with 1 for treatment group and 0 for control group\n",
        "# Important: the dataframe needs to have a 'period' column with 0 for before treatment applied and 1 for after treatment applied\n",
        "\n",
        "\n",
        "def did_estimator(df, metric):\n",
        "  # Using standard alpha\n",
        "  alpha=0.05\n",
        "\n",
        "  # Calculate the Diff-in-Diff estimator\n",
        "  treatment_before = df.query(\"treatment==1 and period==0\")[metric].mean()\n",
        "  treatment_after = df.query(\"treatment==1 and period==1\")[metric].mean()\n",
        "  control_before = df.query(\"treatment==0 and period==0\")[metric].mean()\n",
        "  control_after = df.query(\"treatment==0 and period==1\")[metric].mean()\n",
        "  effect = (treatment_after - treatment_before) - (control_after - control_before)\n",
        "\n",
        "  # Create linear regression model\n",
        "  model_summary = smf.ols(f'{metric} ~ treatment*period', data=df).fit(alpha=alpha).summary()\n",
        "\n",
        "  # Get the p-value\n",
        "  p_value = float(model_summary.tables[1].data[4][4])\n",
        "\n",
        "  # Get the lower and upper bounds of the confidence interval for impact\n",
        "  lower_bound = float(model_summary.tables[1].data[4][5])\n",
        "  upper_bound = float(model_summary.tables[1].data[4][6])\n",
        "\n",
        "\n",
        "  # Calculate percentage change for lower and upper bounds\n",
        "  percentage_change = ((effect) / (treatment_before + (control_after - control_before))) * 100\n",
        "  percentage_change_lower = ((lower_bound) / (treatment_before + (control_after - control_before))) * 100\n",
        "  percentage_change_upper = ((upper_bound) / (treatment_before + (control_after - control_before))) * 100\n",
        "\n",
        "  # Create a figure and axis objects\n",
        "  fig, ax = plt.subplots(figsize=(10, 5))\n",
        "\n",
        "  # Plot the data\n",
        "  ax.plot([\"Before\", \"After\"], [control_before, control_after], label=\"Control\", lw=2)\n",
        "  ax.plot([\"Before\", \"After\"], [treatment_before, treatment_after], label=\"Treatment\", lw=2)\n",
        "\n",
        "  ax.plot([\"Before\", \"After\"], [treatment_before, treatment_before + (control_after - control_before)], label=\"Counterfactual\", lw=2, color=\"C2\", ls=\"-.\")\n",
        "\n",
        "  ax.set_title(f'Difference in Difference for {metric} metric')\n",
        "  ax.legend()\n",
        "\n",
        "  # Display the plot\n",
        "  plt.show()\n",
        "\n",
        "  # Print estimated change as a % and the confidence interval of the estimation\n",
        "  print(f'Estimated relative effect = {percentage_change:.2f}% with a 95% CI of [{percentage_change_lower:.2f}%, {percentage_change_upper:.2f}%]')\n",
        "\n",
        "  # Check p-value against alpha level and print statistical significance\n",
        "  if p_value < alpha:\n",
        "      print(f\"With a p-value of {p_value} and a confidence level of {(1-alpha)*100}% the results are statistically significant!\")\n",
        "  else:\n",
        "      print(f\"With a p-value of {p_value} and a confidence level of {(1-alpha)*100}% the results are NOT statistically significant!\")"
      ],
      "metadata": {
        "id": "tHh3GK8PtGbh"
      },
      "execution_count": 2,
      "outputs": []
    },
    {
      "cell_type": "markdown",
      "source": [
        "# Example"
      ],
      "metadata": {
        "id": "8SLej-hi9HPg"
      }
    },
    {
      "cell_type": "code",
      "source": [
        "# dataset from Matheus Facure https://github.com/matheusfacure/python-causality-handbook\n",
        "\n",
        "df_billboard = pd.read_csv(\n",
        "    filepath_or_buffer = 'https://raw.githubusercontent.com//gsrubio/portfolio/main/datasets/billboard_impact.csv',\n",
        "    sep=',',\n",
        "    decimal='.'\n",
        ")\n"
      ],
      "metadata": {
        "id": "CJOYCxf1sZCT"
      },
      "execution_count": 3,
      "outputs": []
    },
    {
      "cell_type": "code",
      "source": [
        "df_billboard.head()"
      ],
      "metadata": {
        "colab": {
          "base_uri": "https://localhost:8080/",
          "height": 206
        },
        "id": "QWRD5kCJ9clQ",
        "outputId": "f0d31b17-deac-47a4-9a74-970bd9b2e3c7"
      },
      "execution_count": 4,
      "outputs": [
        {
          "output_type": "execute_result",
          "data": {
            "text/plain": [
              "   deposits  poa  jul\n",
              "0        42    1    0\n",
              "1         0    1    0\n",
              "2        52    1    0\n",
              "3       119    1    0\n",
              "4        21    1    0"
            ],
            "text/html": [
              "\n",
              "  <div id=\"df-36a2f249-9301-4849-8620-c50fbf1d5928\" class=\"colab-df-container\">\n",
              "    <div>\n",
              "<style scoped>\n",
              "    .dataframe tbody tr th:only-of-type {\n",
              "        vertical-align: middle;\n",
              "    }\n",
              "\n",
              "    .dataframe tbody tr th {\n",
              "        vertical-align: top;\n",
              "    }\n",
              "\n",
              "    .dataframe thead th {\n",
              "        text-align: right;\n",
              "    }\n",
              "</style>\n",
              "<table border=\"1\" class=\"dataframe\">\n",
              "  <thead>\n",
              "    <tr style=\"text-align: right;\">\n",
              "      <th></th>\n",
              "      <th>deposits</th>\n",
              "      <th>poa</th>\n",
              "      <th>jul</th>\n",
              "    </tr>\n",
              "  </thead>\n",
              "  <tbody>\n",
              "    <tr>\n",
              "      <th>0</th>\n",
              "      <td>42</td>\n",
              "      <td>1</td>\n",
              "      <td>0</td>\n",
              "    </tr>\n",
              "    <tr>\n",
              "      <th>1</th>\n",
              "      <td>0</td>\n",
              "      <td>1</td>\n",
              "      <td>0</td>\n",
              "    </tr>\n",
              "    <tr>\n",
              "      <th>2</th>\n",
              "      <td>52</td>\n",
              "      <td>1</td>\n",
              "      <td>0</td>\n",
              "    </tr>\n",
              "    <tr>\n",
              "      <th>3</th>\n",
              "      <td>119</td>\n",
              "      <td>1</td>\n",
              "      <td>0</td>\n",
              "    </tr>\n",
              "    <tr>\n",
              "      <th>4</th>\n",
              "      <td>21</td>\n",
              "      <td>1</td>\n",
              "      <td>0</td>\n",
              "    </tr>\n",
              "  </tbody>\n",
              "</table>\n",
              "</div>\n",
              "    <div class=\"colab-df-buttons\">\n",
              "\n",
              "  <div class=\"colab-df-container\">\n",
              "    <button class=\"colab-df-convert\" onclick=\"convertToInteractive('df-36a2f249-9301-4849-8620-c50fbf1d5928')\"\n",
              "            title=\"Convert this dataframe to an interactive table.\"\n",
              "            style=\"display:none;\">\n",
              "\n",
              "  <svg xmlns=\"http://www.w3.org/2000/svg\" height=\"24px\" viewBox=\"0 -960 960 960\">\n",
              "    <path d=\"M120-120v-720h720v720H120Zm60-500h600v-160H180v160Zm220 220h160v-160H400v160Zm0 220h160v-160H400v160ZM180-400h160v-160H180v160Zm440 0h160v-160H620v160ZM180-180h160v-160H180v160Zm440 0h160v-160H620v160Z\"/>\n",
              "  </svg>\n",
              "    </button>\n",
              "\n",
              "  <style>\n",
              "    .colab-df-container {\n",
              "      display:flex;\n",
              "      gap: 12px;\n",
              "    }\n",
              "\n",
              "    .colab-df-convert {\n",
              "      background-color: #E8F0FE;\n",
              "      border: none;\n",
              "      border-radius: 50%;\n",
              "      cursor: pointer;\n",
              "      display: none;\n",
              "      fill: #1967D2;\n",
              "      height: 32px;\n",
              "      padding: 0 0 0 0;\n",
              "      width: 32px;\n",
              "    }\n",
              "\n",
              "    .colab-df-convert:hover {\n",
              "      background-color: #E2EBFA;\n",
              "      box-shadow: 0px 1px 2px rgba(60, 64, 67, 0.3), 0px 1px 3px 1px rgba(60, 64, 67, 0.15);\n",
              "      fill: #174EA6;\n",
              "    }\n",
              "\n",
              "    .colab-df-buttons div {\n",
              "      margin-bottom: 4px;\n",
              "    }\n",
              "\n",
              "    [theme=dark] .colab-df-convert {\n",
              "      background-color: #3B4455;\n",
              "      fill: #D2E3FC;\n",
              "    }\n",
              "\n",
              "    [theme=dark] .colab-df-convert:hover {\n",
              "      background-color: #434B5C;\n",
              "      box-shadow: 0px 1px 3px 1px rgba(0, 0, 0, 0.15);\n",
              "      filter: drop-shadow(0px 1px 2px rgba(0, 0, 0, 0.3));\n",
              "      fill: #FFFFFF;\n",
              "    }\n",
              "  </style>\n",
              "\n",
              "    <script>\n",
              "      const buttonEl =\n",
              "        document.querySelector('#df-36a2f249-9301-4849-8620-c50fbf1d5928 button.colab-df-convert');\n",
              "      buttonEl.style.display =\n",
              "        google.colab.kernel.accessAllowed ? 'block' : 'none';\n",
              "\n",
              "      async function convertToInteractive(key) {\n",
              "        const element = document.querySelector('#df-36a2f249-9301-4849-8620-c50fbf1d5928');\n",
              "        const dataTable =\n",
              "          await google.colab.kernel.invokeFunction('convertToInteractive',\n",
              "                                                    [key], {});\n",
              "        if (!dataTable) return;\n",
              "\n",
              "        const docLinkHtml = 'Like what you see? Visit the ' +\n",
              "          '<a target=\"_blank\" href=https://colab.research.google.com/notebooks/data_table.ipynb>data table notebook</a>'\n",
              "          + ' to learn more about interactive tables.';\n",
              "        element.innerHTML = '';\n",
              "        dataTable['output_type'] = 'display_data';\n",
              "        await google.colab.output.renderOutput(dataTable, element);\n",
              "        const docLink = document.createElement('div');\n",
              "        docLink.innerHTML = docLinkHtml;\n",
              "        element.appendChild(docLink);\n",
              "      }\n",
              "    </script>\n",
              "  </div>\n",
              "\n",
              "\n",
              "<div id=\"df-e2342db8-b9d0-4886-a6f5-68cda052b80c\">\n",
              "  <button class=\"colab-df-quickchart\" onclick=\"quickchart('df-e2342db8-b9d0-4886-a6f5-68cda052b80c')\"\n",
              "            title=\"Suggest charts\"\n",
              "            style=\"display:none;\">\n",
              "\n",
              "<svg xmlns=\"http://www.w3.org/2000/svg\" height=\"24px\"viewBox=\"0 0 24 24\"\n",
              "     width=\"24px\">\n",
              "    <g>\n",
              "        <path d=\"M19 3H5c-1.1 0-2 .9-2 2v14c0 1.1.9 2 2 2h14c1.1 0 2-.9 2-2V5c0-1.1-.9-2-2-2zM9 17H7v-7h2v7zm4 0h-2V7h2v10zm4 0h-2v-4h2v4z\"/>\n",
              "    </g>\n",
              "</svg>\n",
              "  </button>\n",
              "\n",
              "<style>\n",
              "  .colab-df-quickchart {\n",
              "      --bg-color: #E8F0FE;\n",
              "      --fill-color: #1967D2;\n",
              "      --hover-bg-color: #E2EBFA;\n",
              "      --hover-fill-color: #174EA6;\n",
              "      --disabled-fill-color: #AAA;\n",
              "      --disabled-bg-color: #DDD;\n",
              "  }\n",
              "\n",
              "  [theme=dark] .colab-df-quickchart {\n",
              "      --bg-color: #3B4455;\n",
              "      --fill-color: #D2E3FC;\n",
              "      --hover-bg-color: #434B5C;\n",
              "      --hover-fill-color: #FFFFFF;\n",
              "      --disabled-bg-color: #3B4455;\n",
              "      --disabled-fill-color: #666;\n",
              "  }\n",
              "\n",
              "  .colab-df-quickchart {\n",
              "    background-color: var(--bg-color);\n",
              "    border: none;\n",
              "    border-radius: 50%;\n",
              "    cursor: pointer;\n",
              "    display: none;\n",
              "    fill: var(--fill-color);\n",
              "    height: 32px;\n",
              "    padding: 0;\n",
              "    width: 32px;\n",
              "  }\n",
              "\n",
              "  .colab-df-quickchart:hover {\n",
              "    background-color: var(--hover-bg-color);\n",
              "    box-shadow: 0 1px 2px rgba(60, 64, 67, 0.3), 0 1px 3px 1px rgba(60, 64, 67, 0.15);\n",
              "    fill: var(--button-hover-fill-color);\n",
              "  }\n",
              "\n",
              "  .colab-df-quickchart-complete:disabled,\n",
              "  .colab-df-quickchart-complete:disabled:hover {\n",
              "    background-color: var(--disabled-bg-color);\n",
              "    fill: var(--disabled-fill-color);\n",
              "    box-shadow: none;\n",
              "  }\n",
              "\n",
              "  .colab-df-spinner {\n",
              "    border: 2px solid var(--fill-color);\n",
              "    border-color: transparent;\n",
              "    border-bottom-color: var(--fill-color);\n",
              "    animation:\n",
              "      spin 1s steps(1) infinite;\n",
              "  }\n",
              "\n",
              "  @keyframes spin {\n",
              "    0% {\n",
              "      border-color: transparent;\n",
              "      border-bottom-color: var(--fill-color);\n",
              "      border-left-color: var(--fill-color);\n",
              "    }\n",
              "    20% {\n",
              "      border-color: transparent;\n",
              "      border-left-color: var(--fill-color);\n",
              "      border-top-color: var(--fill-color);\n",
              "    }\n",
              "    30% {\n",
              "      border-color: transparent;\n",
              "      border-left-color: var(--fill-color);\n",
              "      border-top-color: var(--fill-color);\n",
              "      border-right-color: var(--fill-color);\n",
              "    }\n",
              "    40% {\n",
              "      border-color: transparent;\n",
              "      border-right-color: var(--fill-color);\n",
              "      border-top-color: var(--fill-color);\n",
              "    }\n",
              "    60% {\n",
              "      border-color: transparent;\n",
              "      border-right-color: var(--fill-color);\n",
              "    }\n",
              "    80% {\n",
              "      border-color: transparent;\n",
              "      border-right-color: var(--fill-color);\n",
              "      border-bottom-color: var(--fill-color);\n",
              "    }\n",
              "    90% {\n",
              "      border-color: transparent;\n",
              "      border-bottom-color: var(--fill-color);\n",
              "    }\n",
              "  }\n",
              "</style>\n",
              "\n",
              "  <script>\n",
              "    async function quickchart(key) {\n",
              "      const quickchartButtonEl =\n",
              "        document.querySelector('#' + key + ' button');\n",
              "      quickchartButtonEl.disabled = true;  // To prevent multiple clicks.\n",
              "      quickchartButtonEl.classList.add('colab-df-spinner');\n",
              "      try {\n",
              "        const charts = await google.colab.kernel.invokeFunction(\n",
              "            'suggestCharts', [key], {});\n",
              "      } catch (error) {\n",
              "        console.error('Error during call to suggestCharts:', error);\n",
              "      }\n",
              "      quickchartButtonEl.classList.remove('colab-df-spinner');\n",
              "      quickchartButtonEl.classList.add('colab-df-quickchart-complete');\n",
              "    }\n",
              "    (() => {\n",
              "      let quickchartButtonEl =\n",
              "        document.querySelector('#df-e2342db8-b9d0-4886-a6f5-68cda052b80c button');\n",
              "      quickchartButtonEl.style.display =\n",
              "        google.colab.kernel.accessAllowed ? 'block' : 'none';\n",
              "    })();\n",
              "  </script>\n",
              "</div>\n",
              "\n",
              "    </div>\n",
              "  </div>\n"
            ],
            "application/vnd.google.colaboratory.intrinsic+json": {
              "type": "dataframe",
              "variable_name": "df_billboard",
              "summary": "{\n  \"name\": \"df_billboard\",\n  \"rows\": 4600,\n  \"fields\": [\n    {\n      \"column\": \"deposits\",\n      \"properties\": {\n        \"dtype\": \"number\",\n        \"std\": 102,\n        \"min\": 0,\n        \"max\": 634,\n        \"num_unique_values\": 404,\n        \"samples\": [\n          107,\n          208,\n          384\n        ],\n        \"semantic_type\": \"\",\n        \"description\": \"\"\n      }\n    },\n    {\n      \"column\": \"poa\",\n      \"properties\": {\n        \"dtype\": \"number\",\n        \"std\": 0,\n        \"min\": 0,\n        \"max\": 1,\n        \"num_unique_values\": 2,\n        \"samples\": [\n          0,\n          1\n        ],\n        \"semantic_type\": \"\",\n        \"description\": \"\"\n      }\n    },\n    {\n      \"column\": \"jul\",\n      \"properties\": {\n        \"dtype\": \"number\",\n        \"std\": 0,\n        \"min\": 0,\n        \"max\": 1,\n        \"num_unique_values\": 2,\n        \"samples\": [\n          1,\n          0\n        ],\n        \"semantic_type\": \"\",\n        \"description\": \"\"\n      }\n    }\n  ]\n}"
            }
          },
          "metadata": {},
          "execution_count": 4
        }
      ]
    },
    {
      "cell_type": "code",
      "source": [
        "# treatment: 0 equals control; 1 equals treatment variant\n",
        "# period: 0 means befor treatment applied; 1 means after treatment applied\n",
        "df_billboard = df_billboard.rename(columns={'poa':'treatment', 'jul':'period'})"
      ],
      "metadata": {
        "id": "cX3okMjuuEVX"
      },
      "execution_count": 5,
      "outputs": []
    },
    {
      "cell_type": "code",
      "source": [
        "did_estimator(df=df_billboard, metric='deposits')"
      ],
      "metadata": {
        "colab": {
          "base_uri": "https://localhost:8080/",
          "height": 531
        },
        "id": "UBdX35WissOl",
        "outputId": "ac3b900e-d33f-433b-8a14-9d5730114406"
      },
      "execution_count": 6,
      "outputs": [
        {
          "output_type": "display_data",
          "data": {
            "text/plain": [
              "<Figure size 1000x500 with 1 Axes>"
            ],
            "image/png": "[encoded data removed]"
          },
          "metadata": {}
        },
        {
          "output_type": "stream",
          "name": "stdout",
          "text": [
            "Estimated relative effect = 8.10% with a 95% CI of [-5.84%, 22.05%]\n",
            "With a p-value of 0.255 and a confidence level of 95.0% the results are NOT statistically significant!\n"
          ]
        }
      ]
    },
    {
      "cell_type": "markdown",
      "source": [
        "# References\n",
        "- this code was inspired by [this chapter](https://matheusfacure.github.io/python-causality-handbook/13-Difference-in-Differences.html) of Matheus Facure's book 'Causal Inference for The Brave and True\n",
        "- this [article](https://www.publichealth.columbia.edu/research/population-health-methods/difference-difference-estimation) from Columbia University is also a great introduction to DiD"
      ],
      "metadata": {
        "id": "WySTiLKqzOO5"
      }
    }
  ]
}
